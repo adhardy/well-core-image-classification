{
 "metadata": {
  "language_info": {
   "codemirror_mode": {
    "name": "ipython",
    "version": 3
   },
   "file_extension": ".py",
   "mimetype": "text/x-python",
   "name": "python",
   "nbconvert_exporter": "python",
   "pygments_lexer": "ipython3",
   "version": "3.9.1"
  },
  "orig_nbformat": 2,
  "kernelspec": {
   "name": "python391jvsc74a57bd0d504e65763db0712997c5abf4e36f31acc377fe14fcbb9335ac404214f57dc0f",
   "display_name": "Python 3.9.1 64-bit ('base': conda)"
  }
 },
 "nbformat": 4,
 "nbformat_minor": 2,
 "cells": [
  {
   "source": [
    "## Imports and Helper Functions"
   ],
   "cell_type": "markdown",
   "metadata": {}
  },
  {
   "cell_type": "code",
   "execution_count": 40,
   "metadata": {},
   "outputs": [],
   "source": [
    "import torch\n",
    "import torchvision\n",
    "from PIL import Image\n",
    "import os\n",
    "import matplotlib.pyplot as plt\n",
    "import numpy as np\n",
    "from sklearn.model_selection import train_test_split"
   ]
  },
  {
   "cell_type": "code",
   "execution_count": 41,
   "metadata": {},
   "outputs": [],
   "source": [
    "# helper function to show an image\n",
    "def matplotlib_imshow(img, one_channel=False, normalized=False):\n",
    "    if one_channel:\n",
    "        img = img.mean(dim=0)\n",
    "    if normalized:\n",
    "        img = img / 2 + 0.5     # unnormalize\n",
    "    npimg = img.numpy()\n",
    "    if one_channel:\n",
    "        plt.imshow(npimg, cmap=\"Greys\")\n",
    "    else:\n",
    "        plt.imshow(np.transpose(npimg, (1, 2, 0)))\n",
    "\n",
    "#list full file paths from a directory\n",
    "def list_file_paths(dirs):\n",
    "    all_files_paths = []\n",
    "    for dir in dirs:\n",
    "        files = os.listdir(dir)\n",
    "        files_path = [os.path.join(dir, f) for f in files]\n",
    "        all_files_paths += files_path\n",
    "\n",
    "    return sorted(all_files_paths)\n",
    "\n",
    "def train_val_split(frac_train, image_paths):\n",
    "    image_paths = np.array(image_paths)\n",
    "    n_images = len(image_paths)\n",
    "        "
   ]
  },
  {
   "source": [
    "# Datasets"
   ],
   "cell_type": "markdown",
   "metadata": {}
  },
  {
   "cell_type": "code",
   "execution_count": 42,
   "metadata": {},
   "outputs": [],
   "source": [
    "class CoreSlices (torch.utils.data.Dataset):\n",
    "    def __init__(self, imgs, transform):\n",
    "        self.imgs = imgs\n",
    "        self.transform = transform\n",
    "\n",
    "    def __len__(self):\n",
    "        return len(self.imgs)\n",
    "    \n",
    "    def __getitem__(self, idx):\n",
    "\n",
    "        img = self.transform(Image.open(self.imgs[idx]))\n",
    "\n",
    "        #get the root name of the file (no file extension) and extract the label\n",
    "        label = os.path.splitext(os.path.basename(self.imgs[idx]))[0].split(\"_\")[-1]\n",
    "        \n",
    "        return img, label\n",
    "\n"
   ]
  },
  {
   "cell_type": "code",
   "execution_count": 43,
   "metadata": {
    "tags": []
   },
   "outputs": [],
   "source": [
    "train_transform = torchvision.transforms.Compose([\n",
    "    torchvision.transforms.ToTensor(),\n",
    "    #normalise\n",
    "    #augmentation\n",
    "])\n",
    "\n",
    "test_transform = torchvision.transforms.Compose([\n",
    "    torchvision.transforms.ToTensor(),\n",
    "    #normalise\n",
    "])\n",
    "\n",
    "#get list of all images in directories\n",
    "image_dirs = [\"data/slices/\"]#,\"data/Core Images/21-20a- 1/\",\"data/Core Images/42-29- 6/\",\"data/Core Images/206-01- 2/\"]\n",
    "\n",
    "images = list_file_paths(image_dirs)\n",
    "\n",
    "images_train, images_val = train_test_split(images, train_size=0.8)\n",
    "images_val, images_test = train_test_split(images_val, train_size=0.5)\n",
    "\n",
    "slices = {}\n",
    "slices[\"train\"] = CoreSlices(images_train, train_transform)\n",
    "slices[\"val\"] = CoreSlices(images_train, train_transform)\n",
    "slices[\"test\"] = CoreSlices(images_train, test_transform)\n",
    "\n"
   ]
  },
  {
   "source": [
    "# Dataloaders"
   ],
   "cell_type": "markdown",
   "metadata": {}
  },
  {
   "cell_type": "code",
   "execution_count": 44,
   "metadata": {},
   "outputs": [],
   "source": [
    "BATCH_SIZE = 32\n",
    "dataloaders = {}\n",
    "dataloaders[\"train\"] = torch.utils.data.DataLoader(slices[\"train\"], batch_size=BATCH_SIZE, shuffle=True)\n",
    "dataloaders[\"val\"] = torch.utils.data.DataLoader(slices[\"val\"], batch_size=BATCH_SIZE, shuffle=True)\n",
    "dataloaders[\"test\"] = torch.utils.data.DataLoader(slices[\"test\"], batch_size=BATCH_SIZE, shuffle=True)"
   ]
  }
 ]
}