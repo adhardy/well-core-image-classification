{
 "metadata": {
  "language_info": {
   "codemirror_mode": {
    "name": "ipython",
    "version": 3
   },
   "file_extension": ".py",
   "mimetype": "text/x-python",
   "name": "python",
   "nbconvert_exporter": "python",
   "pygments_lexer": "ipython3",
   "version": "3.8.5"
  },
  "orig_nbformat": 2,
  "kernelspec": {
   "name": "python3",
   "display_name": "Python 3.8.5 64-bit ('base': conda)"
  },
  "interpreter": {
   "hash": "d504e65763db0712997c5abf4e36f31acc377fe14fcbb9335ac404214f57dc0f"
  }
 },
 "nbformat": 4,
 "nbformat_minor": 2,
 "cells": [
  {
   "cell_type": "code",
   "execution_count": 7,
   "metadata": {},
   "outputs": [],
   "source": [
    "import os\n",
    "\n",
    "#if running on colab\n",
    "colab = 'google.colab' in str(get_ipython())\n",
    "\n",
    "if colab:\n",
    "    content_path = \"/content/drive/MyDrive/Core Images\"\n",
    "    project_path = \"/content/\"\n",
    "else:\n",
    "    project_path = os.getcwd()\n",
    "    content_path = project_path + \"/data/Core Images\"\n",
    "    \n",
    "    \n",
    "if colab:\n",
    "    !rm \"well-core-image-classification/\" -r\n",
    "    !git clone https://github.com/adhardy/well-core-image-classification.git\n",
    "\n"
   ]
  },
  {
   "cell_type": "code",
   "execution_count": 16,
   "metadata": {},
   "outputs": [],
   "source": [
    "import importlib\n",
    "import boto3\n",
    "\n",
    "if colab:\n",
    "  %cd $(project_path + \"well-core-image-classification/\")\n",
    "\n",
    "import well_core_preprocessing as core_images\n",
    "import well_core_AWS\n",
    "\n",
    "#reload for debugging\n",
    "importlib.reload(core_images)\n",
    "importlib.reload(well_core_AWS)\n",
    "\n",
    "if colab:\n",
    "  %cd -"
   ]
  },
  {
   "cell_type": "code",
   "execution_count": 12,
   "metadata": {},
   "outputs": [],
   "source": [
    "aws_creds_path = \"awscli.ini\"\n",
    "os.environ['AWS_SHARED_CREDENTIALS_FILE'] = aws_creds_path\n",
    "session = boto3.Session(profile_name='default')\n",
    "\n",
    "bucket_name = \"well-core\"\n",
    "well_core_s3 = well_core_AWS.WellCore_S3(session, bucket_name)"
   ]
  },
  {
   "cell_type": "code",
   "execution_count": 17,
   "metadata": {
    "tags": []
   },
   "outputs": [
    {
     "output_type": "stream",
     "name": "stdout",
     "text": [
      "/home/adam/well-core-image-classification/data/Core Images\n",
      "rm: cannot remove 'slices/*': No such file or directory\n",
      "rm: cannot remove 'cores/*': No such file or directory\n",
      "Processing core photo: test image/S00066842.jpg\n",
      "/home/adam/well-core-image-classification\n"
     ]
    }
   ],
   "source": [
    "%cd $content_path\n",
    "\n",
    "#clear directories\n",
    "!rm slices/* cores/*\n",
    "\n",
    "#get list of all images in directories\n",
    "image_dirs = [\"3-03- 11/\",\"42-29- 6/\"]\n",
    "\n",
    "\n",
    "#list all the images in each directory\n",
    "images = []\n",
    "for dir in image_dirs:\n",
    "    files = os.listdir(dir)\n",
    "    dir_images = [os.path.join(dir, f) for f in files]\n",
    "    images += dir_images\n",
    "\n",
    "images = sorted(images)\n",
    "\n",
    "core_x = 730\n",
    "core_x_size = 6240\n",
    "core_x_cm = 955\n",
    "core_y_size = 865\n",
    "core_x = (core_x,core_x + core_x_size)\n",
    "core_y= (\n",
    "    (1470,1470 + core_y_size),\n",
    "    (2550,2550 + core_y_size),\n",
    "    (3615,3615 + core_y_size)\n",
    ")\n",
    "\n",
    "slice_size = 224\n",
    "step_size = slice_size/4\n",
    "\n",
    "cores = core_images.CoreImages(images, core_x, core_y, core_x_cm, slice_size, step_size)\n",
    "\n",
    "labels = \"core_labels.csv\"\n",
    "\n",
    "cores.slice_cores(well_core_s3, \"cores/\", \"slices/\", labels, verbose = 1, save_local=True)\n",
    "\n",
    "%cd -"
   ]
  },
  {
   "cell_type": "code",
   "execution_count": null,
   "metadata": {},
   "outputs": [],
   "source": []
  }
 ]
}