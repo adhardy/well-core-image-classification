{
 "metadata": {
  "language_info": {
   "codemirror_mode": {
    "name": "ipython",
    "version": 3
   },
   "file_extension": ".py",
   "mimetype": "text/x-python",
   "name": "python",
   "nbconvert_exporter": "python",
   "pygments_lexer": "ipython3",
   "version": "3.8.5"
  },
  "orig_nbformat": 2,
  "kernelspec": {
   "name": "python3",
   "display_name": "Python 3.8.5 64-bit ('base': conda)"
  },
  "interpreter": {
   "hash": "d504e65763db0712997c5abf4e36f31acc377fe14fcbb9335ac404214f57dc0f"
  }
 },
 "nbformat": 4,
 "nbformat_minor": 2,
 "cells": [
  {
   "cell_type": "code",
   "execution_count": 34,
   "metadata": {
    "tags": []
   },
   "outputs": [
    {
     "output_type": "stream",
     "name": "stdout",
     "text": [
      "Core labels:\n",
      "      photo_ID  n_core  length  type Unnamed: 4\n",
      "0    S00066842       1       0     3        NaN\n",
      "1    S00066842       1     130     1        NaN\n",
      "2    S00066842       1     195     2        NaN\n",
      "3    S00066842       1     315     1        NaN\n",
      "4    S00066842       1     465     3        NaN\n",
      "..         ...     ...     ...   ...        ...\n",
      "208  S00085353       2     358     1        NaN\n",
      "209  S00085353       3       0     1        NaN\n",
      "210  S00085353       3     145     2        NaN\n",
      "211  S00085353       3     190    10        NaN\n",
      "212  S00085353       3     300     1        NaN\n",
      "\n",
      "[213 rows x 5 columns]\n",
      "Processing core photo: data/Core Images/3-03- 11/S00066841.jpg\n",
      "Processing core photo: data/Core Images/3-03- 11/S00066842.jpg\n",
      "Processing core photo: data/Core Images/3-03- 11/S00066843.jpg\n",
      "Processing core photo: data/Core Images/3-03- 11/S00066844.jpg\n",
      "Processing core photo: data/Core Images/3-03- 11/S00066845.jpg\n",
      "Processing core photo: data/Core Images/3-03- 11/S00066846.jpg\n",
      "Processing core photo: data/Core Images/3-03- 11/S00066847.jpg\n",
      "Processing core photo: data/Core Images/3-03- 11/S00066848.jpg\n",
      "Processing core photo: data/Core Images/42-29- 6/S00085344.jpg\n",
      "Processing core photo: data/Core Images/42-29- 6/S00085345.jpg\n",
      "Processing core photo: data/Core Images/42-29- 6/S00085346.jpg\n",
      "Processing core photo: data/Core Images/42-29- 6/S00085347.jpg\n",
      "Processing core photo: data/Core Images/42-29- 6/S00085348.jpg\n",
      "Processing core photo: data/Core Images/42-29- 6/S00085349.jpg\n",
      "Processing core photo: data/Core Images/42-29- 6/S00085350.jpg\n",
      "Processing core photo: data/Core Images/42-29- 6/S00085351.jpg\n",
      "Processing core photo: data/Core Images/42-29- 6/S00085352.jpg\n",
      "Processing core photo: data/Core Images/42-29- 6/S00085353.jpg\n"
     ]
    }
   ],
   "source": [
    "import importlib\n",
    "import core_images\n",
    "import os\n",
    "\n",
    "importlib.reload(core_images)\n",
    "\n",
    "#clear directories\n",
    "!rm data/slices/* data/cores/*\n",
    "\n",
    "#get list of all images in directories\n",
    "image_dirs = [\"data/Core Images/3-03- 11/\", \"data/Core Images/42-29- 6/\"]#,\"data/Core Images/21-20a- 1/\",\",\"data/Core Images/206-01- 2/\"]\n",
    "images = []\n",
    "for dir in image_dirs:\n",
    "    files = os.listdir(dir)\n",
    "    dir_images = [os.path.join(dir, f) for f in files]\n",
    "    images += dir_images\n",
    "\n",
    "images = sorted(images)\n",
    "\n",
    "# images = [\"data/Core Images/3-03- 11/S00066842.jpg\"]\n",
    "\n",
    "core_x = 730\n",
    "core_x_size = 6240\n",
    "core_x_cm = 955\n",
    "core_y_size = 865\n",
    "core_x = (core_x,core_x + core_x_size)\n",
    "core_y= (\n",
    "    (1470,1470 + core_y_size),\n",
    "    (2550,2550 + core_y_size),\n",
    "    (3615,3615 + core_y_size)\n",
    ")\n",
    "\n",
    "slice = 224\n",
    "step = slice/4\n",
    "\n",
    "cores = core_images.CoreImages(images, core_x, core_y, core_x_cm, slice, step)\n",
    "\n",
    "labels = \"data/core_labels.csv\"\n",
    "\n",
    "cores.slice_cores(\"data/cores/\", \"data/slices/\", labels, verbose = 1)"
   ]
  },
  {
   "cell_type": "code",
   "execution_count": 56,
   "metadata": {},
   "outputs": [],
   "source": [
    "import pandas as pd\n",
    "df_metadata = pd.read_csv(\"data/slice_metadata.csv\")\n",
    "photo_ID = \"S00085351\"\n",
    "n_core = 2\n",
    "n_slice = 65"
   ]
  },
  {
   "cell_type": "code",
   "execution_count": 57,
   "metadata": {},
   "outputs": [
    {
     "output_type": "execute_result",
     "data": {
      "text/plain": [
       "5141    9\n",
       "Name: label, dtype: object"
      ]
     },
     "metadata": {},
     "execution_count": 57
    }
   ],
   "source": [
    "df_metadata.loc[(df_metadata[\"n_core\"] == n_core) & (df_metadata[\"photo_ID\"] == photo_ID) & (df_metadata[\"n_slice\"] == n_slice)][\"label\"]"
   ]
  },
  {
   "source": [
    "label = int(df_metadata.loc[(df_metadata[\"n_core\"] == n_core) & (df_metadata[\"photo_ID\"] == photo_ID) & (df_metadata[\"n_slice\"] == n_slice)][\"label\"])"
   ],
   "cell_type": "code",
   "metadata": {},
   "execution_count": 58,
   "outputs": [
    {
     "output_type": "execute_result",
     "data": {
      "text/plain": [
       "9"
      ]
     },
     "metadata": {},
     "execution_count": 58
    }
   ]
  },
  {
   "cell_type": "code",
   "execution_count": null,
   "metadata": {},
   "outputs": [],
   "source": []
  }
 ]
}