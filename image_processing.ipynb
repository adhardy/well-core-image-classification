{
 "metadata": {
  "language_info": {
   "codemirror_mode": {
    "name": "ipython",
    "version": 3
   },
   "file_extension": ".py",
   "mimetype": "text/x-python",
   "name": "python",
   "nbconvert_exporter": "python",
   "pygments_lexer": "ipython3",
   "version": "3.9.1"
  },
  "orig_nbformat": 2,
  "kernelspec": {
   "name": "python391jvsc74a57bd0d504e65763db0712997c5abf4e36f31acc377fe14fcbb9335ac404214f57dc0f",
   "display_name": "Python 3.9.1 64-bit ('base': conda)"
  }
 },
 "nbformat": 4,
 "nbformat_minor": 2,
 "cells": [
  {
   "cell_type": "code",
   "execution_count": 2,
   "metadata": {
    "tags": []
   },
   "outputs": [
    {
     "output_type": "stream",
     "name": "stdout",
     "text": [
      "Core labels:\n",
      "     photo_ID  n_core  length  type\n",
      "0   S00066843       1       0     3\n",
      "1   S00066843       1     130     1\n",
      "2   S00066843       1     195     2\n",
      "3   S00066843       1     315     1\n",
      "4   S00066843       1     465     3\n",
      "5   S00066843       3       0     1\n",
      "6   S00066843       3      35     2\n",
      "7   S00066843       3     160     1\n",
      "8   S00066843       3     345     3\n",
      "9   S00066843       3       0     0\n",
      "10  S00066843       1       0     3\n",
      "11  S00066843       3       0     3\n",
      "12  S00066843       3      95     4\n",
      "13  S00066843       3     363     3\n",
      "14  S00066843       3       0     3\n",
      "15  S00066843       3     338     2\n",
      "16  S00066843       3     465     3\n",
      "17  S00066843       3     815     1\n",
      "18  S00066844       1       0     5\n",
      "19  S00066844       1     378     3\n",
      "20  S00066844       1     380     5\n",
      "21  S00066844       1     780     3\n",
      "22  S00066844       1     915     1\n",
      "23  S00066844       3       0     3\n",
      "24  S00066844       3     813     1\n",
      "25  S00066844       3       0     3\n",
      "26  S00066844       3     341     2\n",
      "27  S00066844       3     480     3\n",
      "28  S00066844       3     780     1\n",
      "Processing core photo: data/Core Images/3-03- 11/S00066842.jpg\n",
      "Processing core photo: data/Core Images/3-03- 11/S00066843.jpg\n",
      "Processing core photo: data/Core Images/3-03- 11/S00066844.jpg\n",
      "Processing core photo: data/Core Images/3-03- 11/S00066845.jpg\n",
      "Processing core photo: data/Core Images/3-03- 11/S00066846.jpg\n",
      "Processing core photo: data/Core Images/3-03- 11/S00066847.jpg\n",
      "Processing core photo: data/Core Images/3-03- 11/S00066848.jpg\n"
     ]
    }
   ],
   "source": [
    "import importlib\n",
    "import core_images\n",
    "import os\n",
    "\n",
    "importlib.reload(core_images)\n",
    "\n",
    "#clear directories\n",
    "!rm data/slices/* data/cores/*\n",
    "\n",
    "#get list of all images in directories\n",
    "image_dirs = [\"data/Core Images/3-03- 11/\"]#,\"data/Core Images/21-20a- 1/\",\"data/Core Images/42-29- 6/\",\"data/Core Images/206-01- 2/\"]\n",
    "images = []\n",
    "for dir in image_dirs:\n",
    "    files = os.listdir(dir)\n",
    "    dir_images = [os.path.join(dir, f) for f in files]\n",
    "    images += dir_images\n",
    "\n",
    "images = sorted(images)\n",
    "\n",
    "# images = [\"data/Core Images/3-03- 11/S00066842.jpg\"]\n",
    "\n",
    "core_x = 730\n",
    "core_x_size = 6240\n",
    "core_x_cm = 955\n",
    "core_y_size = 865\n",
    "core_x = (core_x,core_x + core_x_size)\n",
    "core_y= (\n",
    "    (1470,1470 + core_y_size),\n",
    "    (2550,2550 + core_y_size),\n",
    "    (3615,3615 + core_y_size)\n",
    ")\n",
    "\n",
    "slice = 224\n",
    "step = slice/4\n",
    "\n",
    "cores = core_images.CoreImages(images, core_x, core_y, core_x_cm, slice, step)\n",
    "\n",
    "labels = \"/mnt/c/Users/adh16/Documents/core_labels.csv\"\n",
    "\n",
    "cores.slice_cores(\"data/cores/\", \"data/slices/\", labels, verbose = 1)\n",
    "\n",
    "#remove any \"unlaballed slces\"\n",
    "!rm data/slices/*unlabelled.jpg"
   ]
  },
  {
   "cell_type": "code",
   "execution_count": null,
   "metadata": {},
   "outputs": [],
   "source": []
  }
 ]
}