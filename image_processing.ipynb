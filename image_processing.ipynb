{
 "metadata": {
  "language_info": {
   "codemirror_mode": {
    "name": "ipython",
    "version": 3
   },
   "file_extension": ".py",
   "mimetype": "text/x-python",
   "name": "python",
   "nbconvert_exporter": "python",
   "pygments_lexer": "ipython3",
   "version": "3.9.1"
  },
  "orig_nbformat": 2,
  "kernelspec": {
   "name": "python391jvsc74a57bd0d504e65763db0712997c5abf4e36f31acc377fe14fcbb9335ac404214f57dc0f",
   "display_name": "Python 3.9.1 64-bit ('base': conda)"
  }
 },
 "nbformat": 4,
 "nbformat_minor": 2,
 "cells": [
  {
   "cell_type": "code",
   "execution_count": 198,
   "metadata": {
    "tags": []
   },
   "outputs": [
    {
     "output_type": "stream",
     "name": "stdout",
     "text": [
      "Processing core photo: data/Core Images/3-03- 11/S00066841.jpg\n",
      "Processing core photo: data/Core Images/3-03- 11/S00066846.jpg\n",
      "Processing core photo: data/Core Images/3-03- 11/S00066844.jpg\n",
      "Processing core photo: data/Core Images/3-03- 11/S00066847.jpg\n",
      "Processing core photo: data/Core Images/3-03- 11/S00066845.jpg\n",
      "Processing core photo: data/Core Images/3-03- 11/S00066848.jpg\n",
      "Processing core photo: data/Core Images/3-03- 11/S00066842.jpg\n",
      "Processing core photo: data/Core Images/3-03- 11/S00066843.jpg\n"
     ]
    }
   ],
   "source": [
    "import os\n",
    "import torch\n",
    "from torch.utils.data import Dataset\n",
    "from PIL import Image \n",
    "import numpy as np\n",
    "\n",
    "class CoreImages():\n",
    "\n",
    "    def __init__(self, core_photos, core_x, core_y, core_x_cm, slice_window, slice_step=None):\n",
    "        \"\"\"\n",
    "        core_photos: a list of core image paths\n",
    "        core_x: Tuple (x1,x2) of the x coordinates of the core trays\n",
    "        core_x_cm: length of the core in cm\n",
    "        core_y: Tuple of tuples ((y1,y2),(y1,y2),(y1,y2),...) with y coordinates for each of the cores within the image\n",
    "        slice: width to slice each core image into. If not integer divisible by the length of the core, the end of the core will be discarded\n",
    "        \"\"\"\n",
    "\n",
    "        self.slice_window = slice_window\n",
    "        assert self.slice_window > 0, \"Slice window should be greater than 0\"\n",
    "        if slice_step == None:\n",
    "            self.slice_step = slice_window\n",
    "        else:\n",
    "            self.slice_step = slice_step\n",
    "        assert self.slice_step > 0, \"Slice step should be greater than 0\"\n",
    "        self.paths = []\n",
    "\n",
    "        self.core_photos = core_photos\n",
    "        self.core_x = core_x\n",
    "        self.core_y = core_y\n",
    "    \n",
    "        self.cores_per_image = len(self.core_y)\n",
    "\n",
    "        self.core_length = core_x[1] - core_x[0]\n",
    "        self.slices_per_core = int(np.floor(self.core_length / slice))\n",
    "\n",
    "        self.paths = [] #stores paths of all photos, cores, slices\n",
    "\n",
    "        self.core_x_cm = core_x_cm\n",
    "        self.px_cm_conversion = core_x_cm / (core_x[1]-core_x[0])\n",
    "\n",
    "    def px_to_cm(self, px):\n",
    "        return px * self.px_cm_conversion\n",
    "    \n",
    "    def cm_to_px(self, cm):\n",
    "        return cm / self.px_cm_conversion\n",
    "\n",
    "    def __getitem__(self, idx):\n",
    "        #still a bit broken, needs work to retrieve these problem\n",
    "        return self.paths[idx]\n",
    "\n",
    "    def slice_cores(self, core_dir = os.getcwd(), slice_dir = os.getcwd(), verbose = 0):\n",
    "        \"\"\"extract the cores from each image, and slice the cores into slices of <slice> width\"\"\"\n",
    "        self.core_slices = []\n",
    "        core_left, core_right = self.core_x\n",
    "\n",
    "        for n_photo, core_photo in enumerate(self.core_photos):\n",
    "            if verbose > 0:\n",
    "                print(f\"Processing core photo: {core_photo}\")\n",
    "            core_paths = []\n",
    "            for n_core in range(self.cores_per_image):\n",
    "                #extract the core from the image\n",
    "                core_photo_img = Image.open(core_photo)\n",
    "                core_img = core_photo_img.crop((core_left,self.core_y[n_core][0],core_right,self.core_y[n_core][1]))\n",
    "                core_path = f\"{core_dir}/{os.path.splitext(os.path.basename(core_photo))[0]}_{n_core}.jpg\"\n",
    "                \n",
    "                core_img.save(core_path)\n",
    "                \n",
    "\n",
    "                #slice the core up\n",
    "                core_width, core_height = core_img.size\n",
    "                slice_left = 0\n",
    "                slice_right = self.slice_window\n",
    "                n_slice = 0\n",
    "                slice_paths = []\n",
    "                while slice_right < core_width:\n",
    "                    slice_img = core_img.crop((slice_left,0,slice_right,core_height))\n",
    "                    slice_path = f\"{slice_dir}/{os.path.splitext(os.path.basename(core_photo))[0]}_{n_core}_{n_slice}.jpg\"\n",
    "                    slice_paths.append(slice_path)\n",
    "                    slice_img.save(slice_path)\n",
    "                    slice_img.close()\n",
    "\n",
    "                    n_slice += 1\n",
    "                    slice_left += self.slice_step\n",
    "                    slice_right += self.slice_step\n",
    "                \n",
    "                core_paths.append([core_path, slice_paths])\n",
    "\n",
    "                core_img.close()\n",
    "                core_photo_img.close()\n",
    "        \n",
    "            self.paths.append([core_photo, core_paths])\n",
    "\n",
    "#get list of all images in directories\n",
    "image_dirs = [\"data/Core Images/3-03- 11/\"]#,\"data/Core Images/21-20a- 1/\",\"data/Core Images/42-29- 6/\",\"data/Core Images/206-01- 2/\"]\n",
    "images = []\n",
    "for dir in image_dirs:\n",
    "    files = os.listdir(dir)\n",
    "    dir_images = [os.path.join(dir, f) for f in files]\n",
    "    images += dir_images\n",
    "\n",
    "core_x = 730\n",
    "core_x_size = 6240\n",
    "core_x_cm = 95.5\n",
    "core_y_size = 865\n",
    "core_x = (core_x,core_x + core_x_size)\n",
    "core_y= (\n",
    "    (1470,1470 + core_y_size),\n",
    "    (2550,2550 + core_y_size),\n",
    "    (3615,3615 + core_y_size)\n",
    ")\n",
    "\n",
    "slice = 100\n",
    "step = slice/2\n",
    "\n",
    "cores = CoreImages(images, core_x, core_y, core_x_cm, slice, step)\n",
    "\n",
    "cores.slice_cores(\"data/cores/\", \"data/slices/\", verbose = 1)"
   ]
  },
  {
   "cell_type": "code",
   "execution_count": 199,
   "metadata": {},
   "outputs": [
    {
     "output_type": "execute_result",
     "data": {
      "text/plain": [
       "0.07652243589743589"
      ]
     },
     "metadata": {},
     "execution_count": 199
    }
   ],
   "source": [
    "cores.px_to_cm(5)"
   ]
  },
  {
   "cell_type": "code",
   "execution_count": 200,
   "metadata": {},
   "outputs": [
    {
     "output_type": "error",
     "ename": "NameError",
     "evalue": "name 'cm' is not defined",
     "traceback": [
      "\u001b[0;31m---------------------------------------------------------------------------\u001b[0m",
      "\u001b[0;31mNameError\u001b[0m                                 Traceback (most recent call last)",
      "\u001b[0;32m<ipython-input-200-4b665e152b4c>\u001b[0m in \u001b[0;36m<module>\u001b[0;34m\u001b[0m\n\u001b[0;32m----> 1\u001b[0;31m \u001b[0mcores\u001b[0m\u001b[0;34m.\u001b[0m\u001b[0mcm_to_px\u001b[0m\u001b[0;34m(\u001b[0m\u001b[0;36m5\u001b[0m\u001b[0;34m)\u001b[0m\u001b[0;34m\u001b[0m\u001b[0;34m\u001b[0m\u001b[0m\n\u001b[0m",
      "\u001b[0;32m<ipython-input-198-1198ee8484e1>\u001b[0m in \u001b[0;36mcm_to_px\u001b[0;34m(self, px)\u001b[0m\n\u001b[1;32m     43\u001b[0m \u001b[0;34m\u001b[0m\u001b[0m\n\u001b[1;32m     44\u001b[0m     \u001b[0;32mdef\u001b[0m \u001b[0mcm_to_px\u001b[0m\u001b[0;34m(\u001b[0m\u001b[0mself\u001b[0m\u001b[0;34m,\u001b[0m \u001b[0mpx\u001b[0m\u001b[0;34m)\u001b[0m\u001b[0;34m:\u001b[0m\u001b[0;34m\u001b[0m\u001b[0;34m\u001b[0m\u001b[0m\n\u001b[0;32m---> 45\u001b[0;31m         \u001b[0;32mreturn\u001b[0m \u001b[0mcm\u001b[0m \u001b[0;34m/\u001b[0m \u001b[0mself\u001b[0m\u001b[0;34m.\u001b[0m\u001b[0mpx_cm_conversion\u001b[0m\u001b[0;34m\u001b[0m\u001b[0;34m\u001b[0m\u001b[0m\n\u001b[0m\u001b[1;32m     46\u001b[0m \u001b[0;34m\u001b[0m\u001b[0m\n\u001b[1;32m     47\u001b[0m     \u001b[0;32mdef\u001b[0m \u001b[0m__getitem__\u001b[0m\u001b[0;34m(\u001b[0m\u001b[0mself\u001b[0m\u001b[0;34m,\u001b[0m \u001b[0midx\u001b[0m\u001b[0;34m)\u001b[0m\u001b[0;34m:\u001b[0m\u001b[0;34m\u001b[0m\u001b[0;34m\u001b[0m\u001b[0m\n",
      "\u001b[0;31mNameError\u001b[0m: name 'cm' is not defined"
     ]
    }
   ],
   "source": [
    "cores.cm_to_px(5)"
   ]
  },
  {
   "cell_type": "code",
   "execution_count": null,
   "metadata": {},
   "outputs": [],
   "source": []
  }
 ]
}