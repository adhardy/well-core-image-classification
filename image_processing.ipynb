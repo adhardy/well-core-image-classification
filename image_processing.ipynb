{
 "metadata": {
  "language_info": {
   "codemirror_mode": {
    "name": "ipython",
    "version": 3
   },
   "file_extension": ".py",
   "mimetype": "text/x-python",
   "name": "python",
   "nbconvert_exporter": "python",
   "pygments_lexer": "ipython3",
   "version": "3.9.1"
  },
  "orig_nbformat": 2,
  "kernelspec": {
   "name": "python391jvsc74a57bd0d504e65763db0712997c5abf4e36f31acc377fe14fcbb9335ac404214f57dc0f",
   "display_name": "Python 3.9.1 64-bit ('base': conda)"
  }
 },
 "nbformat": 4,
 "nbformat_minor": 2,
 "cells": [
  {
   "cell_type": "code",
   "execution_count": 17,
   "metadata": {
    "tags": []
   },
   "outputs": [
    {
     "output_type": "stream",
     "name": "stdout",
     "text": [
      "Processing core photo: data/Core Images/3-03- 11/S00066841.jpg\n",
      "Processing core photo: data/Core Images/3-03- 11/S00066846.jpg\n",
      "Processing core photo: data/Core Images/3-03- 11/S00066844.jpg\n",
      "Processing core photo: data/Core Images/3-03- 11/S00066847.jpg\n",
      "Processing core photo: data/Core Images/3-03- 11/S00066845.jpg\n",
      "Processing core photo: data/Core Images/3-03- 11/S00066848.jpg\n",
      "Processing core photo: data/Core Images/3-03- 11/S00066842.jpg\n",
      "Processing core photo: data/Core Images/3-03- 11/S00066843.jpg\n"
     ]
    }
   ],
   "source": [
    "import importlib\n",
    "import core_images\n",
    "import os\n",
    "\n",
    "importlib.reload(core_images)\n",
    "\n",
    "#get list of all images in directories\n",
    "image_dirs = [\"data/Core Images/3-03- 11/\"]#,\"data/Core Images/21-20a- 1/\",\"data/Core Images/42-29- 6/\",\"data/Core Images/206-01- 2/\"]\n",
    "images = []\n",
    "for dir in image_dirs:\n",
    "    files = os.listdir(dir)\n",
    "    dir_images = [os.path.join(dir, f) for f in files]\n",
    "    images += dir_images\n",
    "\n",
    "core_x = 730\n",
    "core_x_size = 6240\n",
    "core_x_cm = 955\n",
    "core_y_size = 865\n",
    "core_x = (core_x,core_x + core_x_size)\n",
    "core_y= (\n",
    "    (1470,1470 + core_y_size),\n",
    "    (2550,2550 + core_y_size),\n",
    "    (3615,3615 + core_y_size)\n",
    ")\n",
    "\n",
    "slice = 100\n",
    "step = slice/2\n",
    "\n",
    "cores = core_images.CoreImages(images, core_x, core_y, core_x_cm, slice, step)\n",
    "\n",
    "cores.slice_cores(\"data/cores/\", \"data/slices/\", verbose = 1)"
   ]
  },
  {
   "cell_type": "code",
   "execution_count": null,
   "metadata": {},
   "outputs": [],
   "source": []
  }
 ]
}